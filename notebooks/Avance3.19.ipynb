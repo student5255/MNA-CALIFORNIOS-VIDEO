{
 "cells": [
  {
   "cell_type": "markdown",
   "metadata": {},
   "source": [
    "# Maestría en Inteligencia Artificial Aplicada \n",
    "\n",
    "## Curso: Proyecto Integrador (Grupo 10) \n",
    "\n",
    "## Avance 3. Baseline\n",
    "<br />\n",
    "\n",
    "### Profesor titular  \n",
    "#### Dra. Grettel Barceló Alonso \n",
    "#### Dr. Luis Eduardo Falcón Morales  \n",
    "<br />\n",
    "\n",
    "<table>\n",
    "<tr>\n",
    "    <th colspan=\"2\">Equipo 19: Los Californios I</th>\n",
    "</tr>\n",
    "<tr>\n",
    "    <td>Ernesto Zapata Garza</td><td>A00915255</td>\n",
    "</tr>\n",
    "<tr>\n",
    "    <td>Rafael García Domínguez</td><td>A01328974</td>\n",
    "</tr>\n",
    "<tr>\n",
    "    <td>Erik López Hernández</td><td>A00458875</td>\n",
    "</tr>\n",
    "</table>\n",
    "<br />\n",
    "\n",
    "##### 18 de mayo de 2025"
   ]
  },
  {
   "cell_type": "markdown",
   "metadata": {},
   "source": [
    "El objetivo de este notebook es realizar un análisis exploratorio completo del guion de la serie <b>Los Californios</b>, con el fin de identificar patrones narrativos, personajes clave, agrupaciones temáticas y otras variables que permitan usar IA generativa en la producción de un tráiler audiovisual."
   ]
  },
  {
   "cell_type": "markdown",
   "metadata": {},
   "source": [
    "## Instalaciones necesarias"
   ]
  },
  {
   "cell_type": "code",
   "execution_count": 1,
   "metadata": {},
   "outputs": [
    {
     "name": "stdout",
     "output_type": "stream",
     "text": [
      "Requirement already satisfied: spacy in c:\\users\\ganod\\appdata\\local\\programs\\python\\python312\\lib\\site-packages (3.8.5)\n",
      "Requirement already satisfied: spacy-legacy<3.1.0,>=3.0.11 in c:\\users\\ganod\\appdata\\local\\programs\\python\\python312\\lib\\site-packages (from spacy) (3.0.12)\n",
      "Requirement already satisfied: spacy-loggers<2.0.0,>=1.0.0 in c:\\users\\ganod\\appdata\\local\\programs\\python\\python312\\lib\\site-packages (from spacy) (1.0.5)\n",
      "Requirement already satisfied: murmurhash<1.1.0,>=0.28.0 in c:\\users\\ganod\\appdata\\local\\programs\\python\\python312\\lib\\site-packages (from spacy) (1.0.12)\n",
      "Requirement already satisfied: cymem<2.1.0,>=2.0.2 in c:\\users\\ganod\\appdata\\local\\programs\\python\\python312\\lib\\site-packages (from spacy) (2.0.11)\n",
      "Requirement already satisfied: preshed<3.1.0,>=3.0.2 in c:\\users\\ganod\\appdata\\local\\programs\\python\\python312\\lib\\site-packages (from spacy) (3.0.9)\n",
      "Requirement already satisfied: thinc<8.4.0,>=8.3.4 in c:\\users\\ganod\\appdata\\local\\programs\\python\\python312\\lib\\site-packages (from spacy) (8.3.6)\n",
      "Requirement already satisfied: wasabi<1.2.0,>=0.9.1 in c:\\users\\ganod\\appdata\\local\\programs\\python\\python312\\lib\\site-packages (from spacy) (1.1.3)\n",
      "Requirement already satisfied: srsly<3.0.0,>=2.4.3 in c:\\users\\ganod\\appdata\\local\\programs\\python\\python312\\lib\\site-packages (from spacy) (2.5.1)\n",
      "Requirement already satisfied: catalogue<2.1.0,>=2.0.6 in c:\\users\\ganod\\appdata\\local\\programs\\python\\python312\\lib\\site-packages (from spacy) (2.0.10)\n",
      "Requirement already satisfied: weasel<0.5.0,>=0.1.0 in c:\\users\\ganod\\appdata\\local\\programs\\python\\python312\\lib\\site-packages (from spacy) (0.4.1)\n",
      "Requirement already satisfied: typer<1.0.0,>=0.3.0 in c:\\users\\ganod\\appdata\\local\\programs\\python\\python312\\lib\\site-packages (from spacy) (0.15.3)\n",
      "Requirement already satisfied: tqdm<5.0.0,>=4.38.0 in c:\\users\\ganod\\appdata\\local\\programs\\python\\python312\\lib\\site-packages (from spacy) (4.67.0)\n",
      "Requirement already satisfied: numpy>=1.19.0 in c:\\users\\ganod\\appdata\\local\\programs\\python\\python312\\lib\\site-packages (from spacy) (2.2.5)\n",
      "Requirement already satisfied: requests<3.0.0,>=2.13.0 in c:\\users\\ganod\\appdata\\local\\programs\\python\\python312\\lib\\site-packages (from spacy) (2.32.3)\n",
      "Requirement already satisfied: pydantic!=1.8,!=1.8.1,<3.0.0,>=1.7.4 in c:\\users\\ganod\\appdata\\local\\programs\\python\\python312\\lib\\site-packages (from spacy) (2.11.4)\n",
      "Requirement already satisfied: jinja2 in c:\\users\\ganod\\appdata\\local\\programs\\python\\python312\\lib\\site-packages (from spacy) (3.1.4)\n",
      "Requirement already satisfied: setuptools in c:\\users\\ganod\\appdata\\local\\programs\\python\\python312\\lib\\site-packages (from spacy) (75.1.0)\n",
      "Requirement already satisfied: packaging>=20.0 in c:\\users\\ganod\\appdata\\roaming\\python\\python312\\site-packages (from spacy) (24.1)\n",
      "Requirement already satisfied: langcodes<4.0.0,>=3.2.0 in c:\\users\\ganod\\appdata\\local\\programs\\python\\python312\\lib\\site-packages (from spacy) (3.5.0)\n",
      "Requirement already satisfied: language-data>=1.2 in c:\\users\\ganod\\appdata\\local\\programs\\python\\python312\\lib\\site-packages (from langcodes<4.0.0,>=3.2.0->spacy) (1.3.0)\n",
      "Requirement already satisfied: annotated-types>=0.6.0 in c:\\users\\ganod\\appdata\\local\\programs\\python\\python312\\lib\\site-packages (from pydantic!=1.8,!=1.8.1,<3.0.0,>=1.7.4->spacy) (0.7.0)\n",
      "Requirement already satisfied: pydantic-core==2.33.2 in c:\\users\\ganod\\appdata\\local\\programs\\python\\python312\\lib\\site-packages (from pydantic!=1.8,!=1.8.1,<3.0.0,>=1.7.4->spacy) (2.33.2)\n",
      "Requirement already satisfied: typing-extensions>=4.12.2 in c:\\users\\ganod\\appdata\\local\\programs\\python\\python312\\lib\\site-packages (from pydantic!=1.8,!=1.8.1,<3.0.0,>=1.7.4->spacy) (4.12.2)\n",
      "Requirement already satisfied: typing-inspection>=0.4.0 in c:\\users\\ganod\\appdata\\local\\programs\\python\\python312\\lib\\site-packages (from pydantic!=1.8,!=1.8.1,<3.0.0,>=1.7.4->spacy) (0.4.0)\n",
      "Requirement already satisfied: charset-normalizer<4,>=2 in c:\\users\\ganod\\appdata\\local\\programs\\python\\python312\\lib\\site-packages (from requests<3.0.0,>=2.13.0->spacy) (3.4.0)\n",
      "Requirement already satisfied: idna<4,>=2.5 in c:\\users\\ganod\\appdata\\local\\programs\\python\\python312\\lib\\site-packages (from requests<3.0.0,>=2.13.0->spacy) (3.10)\n",
      "Requirement already satisfied: urllib3<3,>=1.21.1 in c:\\users\\ganod\\appdata\\local\\programs\\python\\python312\\lib\\site-packages (from requests<3.0.0,>=2.13.0->spacy) (2.2.3)\n",
      "Requirement already satisfied: certifi>=2017.4.17 in c:\\users\\ganod\\appdata\\local\\programs\\python\\python312\\lib\\site-packages (from requests<3.0.0,>=2.13.0->spacy) (2024.8.30)\n",
      "Requirement already satisfied: blis<1.4.0,>=1.3.0 in c:\\users\\ganod\\appdata\\local\\programs\\python\\python312\\lib\\site-packages (from thinc<8.4.0,>=8.3.4->spacy) (1.3.0)\n",
      "Requirement already satisfied: confection<1.0.0,>=0.0.1 in c:\\users\\ganod\\appdata\\local\\programs\\python\\python312\\lib\\site-packages (from thinc<8.4.0,>=8.3.4->spacy) (0.1.5)\n",
      "Requirement already satisfied: colorama in c:\\users\\ganod\\appdata\\roaming\\python\\python312\\site-packages (from tqdm<5.0.0,>=4.38.0->spacy) (0.4.6)\n",
      "Requirement already satisfied: click>=8.0.0 in c:\\users\\ganod\\appdata\\local\\programs\\python\\python312\\lib\\site-packages (from typer<1.0.0,>=0.3.0->spacy) (8.1.7)\n",
      "Requirement already satisfied: shellingham>=1.3.0 in c:\\users\\ganod\\appdata\\local\\programs\\python\\python312\\lib\\site-packages (from typer<1.0.0,>=0.3.0->spacy) (1.5.4)\n",
      "Requirement already satisfied: rich>=10.11.0 in c:\\users\\ganod\\appdata\\local\\programs\\python\\python312\\lib\\site-packages (from typer<1.0.0,>=0.3.0->spacy) (14.0.0)\n",
      "Requirement already satisfied: cloudpathlib<1.0.0,>=0.7.0 in c:\\users\\ganod\\appdata\\local\\programs\\python\\python312\\lib\\site-packages (from weasel<0.5.0,>=0.1.0->spacy) (0.21.0)\n",
      "Requirement already satisfied: smart-open<8.0.0,>=5.2.1 in c:\\users\\ganod\\appdata\\local\\programs\\python\\python312\\lib\\site-packages (from weasel<0.5.0,>=0.1.0->spacy) (7.1.0)\n",
      "Requirement already satisfied: MarkupSafe>=2.0 in c:\\users\\ganod\\appdata\\local\\programs\\python\\python312\\lib\\site-packages (from jinja2->spacy) (3.0.1)\n",
      "Requirement already satisfied: marisa-trie>=1.1.0 in c:\\users\\ganod\\appdata\\local\\programs\\python\\python312\\lib\\site-packages (from language-data>=1.2->langcodes<4.0.0,>=3.2.0->spacy) (1.2.1)\n",
      "Requirement already satisfied: markdown-it-py>=2.2.0 in c:\\users\\ganod\\appdata\\local\\programs\\python\\python312\\lib\\site-packages (from rich>=10.11.0->typer<1.0.0,>=0.3.0->spacy) (3.0.0)\n",
      "Requirement already satisfied: pygments<3.0.0,>=2.13.0 in c:\\users\\ganod\\appdata\\roaming\\python\\python312\\site-packages (from rich>=10.11.0->typer<1.0.0,>=0.3.0->spacy) (2.18.0)\n",
      "Requirement already satisfied: wrapt in c:\\users\\ganod\\appdata\\local\\programs\\python\\python312\\lib\\site-packages (from smart-open<8.0.0,>=5.2.1->weasel<0.5.0,>=0.1.0->spacy) (1.16.0)\n",
      "Requirement already satisfied: mdurl~=0.1 in c:\\users\\ganod\\appdata\\local\\programs\\python\\python312\\lib\\site-packages (from markdown-it-py>=2.2.0->rich>=10.11.0->typer<1.0.0,>=0.3.0->spacy) (0.1.2)\n"
     ]
    },
    {
     "name": "stderr",
     "output_type": "stream",
     "text": [
      "\n",
      "[notice] A new release of pip is available: 24.3.1 -> 25.1.1\n",
      "[notice] To update, run: python.exe -m pip install --upgrade pip\n"
     ]
    }
   ],
   "source": [
    "!pip install spacy"
   ]
  },
  {
   "cell_type": "code",
   "execution_count": 2,
   "metadata": {},
   "outputs": [
    {
     "name": "stdout",
     "output_type": "stream",
     "text": [
      "Collecting es-core-news-md==3.8.0\n",
      "  Downloading https://github.com/explosion/spacy-models/releases/download/es_core_news_md-3.8.0/es_core_news_md-3.8.0-py3-none-any.whl (42.3 MB)\n",
      "     ---------------------------------------- 0.0/42.3 MB ? eta -:--:--\n",
      "      --------------------------------------- 0.8/42.3 MB 5.6 MB/s eta 0:00:08\n",
      "     -- ------------------------------------- 2.9/42.3 MB 8.4 MB/s eta 0:00:05\n",
      "     ---- ----------------------------------- 5.2/42.3 MB 9.1 MB/s eta 0:00:05\n",
      "     ------ --------------------------------- 6.8/42.3 MB 8.9 MB/s eta 0:00:04\n",
      "     -------- ------------------------------- 8.7/42.3 MB 8.7 MB/s eta 0:00:04\n",
      "     --------- ------------------------------ 10.2/42.3 MB 8.5 MB/s eta 0:00:04\n",
      "     ----------- ---------------------------- 12.1/42.3 MB 8.4 MB/s eta 0:00:04\n",
      "     ------------ --------------------------- 13.6/42.3 MB 8.5 MB/s eta 0:00:04\n",
      "     -------------- ------------------------- 15.5/42.3 MB 8.4 MB/s eta 0:00:04\n",
      "     ---------------- ----------------------- 17.3/42.3 MB 8.5 MB/s eta 0:00:03\n",
      "     ------------------ --------------------- 19.1/42.3 MB 8.4 MB/s eta 0:00:03\n",
      "     ------------------- -------------------- 21.0/42.3 MB 8.5 MB/s eta 0:00:03\n",
      "     --------------------- ------------------ 22.8/42.3 MB 8.5 MB/s eta 0:00:03\n",
      "     ----------------------- ---------------- 24.6/42.3 MB 8.5 MB/s eta 0:00:03\n",
      "     ------------------------- -------------- 26.5/42.3 MB 8.5 MB/s eta 0:00:02\n",
      "     --------------------------- ------------ 28.6/42.3 MB 8.5 MB/s eta 0:00:02\n",
      "     ---------------------------- ----------- 30.1/42.3 MB 8.5 MB/s eta 0:00:02\n",
      "     ------------------------------ --------- 32.0/42.3 MB 8.5 MB/s eta 0:00:02\n",
      "     ------------------------------- -------- 33.6/42.3 MB 8.5 MB/s eta 0:00:02\n",
      "     --------------------------------- ------ 35.7/42.3 MB 8.5 MB/s eta 0:00:01\n",
      "     ----------------------------------- ---- 37.5/42.3 MB 8.5 MB/s eta 0:00:01\n",
      "     ------------------------------------- -- 39.6/42.3 MB 8.6 MB/s eta 0:00:01\n",
      "     ---------------------------------------  41.4/42.3 MB 8.6 MB/s eta 0:00:01\n",
      "     ---------------------------------------- 42.3/42.3 MB 8.4 MB/s eta 0:00:00\n",
      "\u001b[38;5;2m✔ Download and installation successful\u001b[0m\n",
      "You can now load the package via spacy.load('es_core_news_md')\n"
     ]
    },
    {
     "name": "stderr",
     "output_type": "stream",
     "text": [
      "\n",
      "[notice] A new release of pip is available: 24.3.1 -> 25.1.1\n",
      "[notice] To update, run: python.exe -m pip install --upgrade pip\n"
     ]
    }
   ],
   "source": [
    "!python -m spacy download es_core_news_md"
   ]
  },
  {
   "cell_type": "code",
   "execution_count": 3,
   "metadata": {},
   "outputs": [
    {
     "name": "stdout",
     "output_type": "stream",
     "text": [
      "Requirement already satisfied: transformers in c:\\users\\ganod\\appdata\\local\\programs\\python\\python312\\lib\\site-packages (4.51.3)\n",
      "Requirement already satisfied: filelock in c:\\users\\ganod\\appdata\\local\\programs\\python\\python312\\lib\\site-packages (from transformers) (3.16.1)\n",
      "Requirement already satisfied: huggingface-hub<1.0,>=0.30.0 in c:\\users\\ganod\\appdata\\local\\programs\\python\\python312\\lib\\site-packages (from transformers) (0.30.2)\n",
      "Requirement already satisfied: numpy>=1.17 in c:\\users\\ganod\\appdata\\local\\programs\\python\\python312\\lib\\site-packages (from transformers) (2.2.5)\n",
      "Requirement already satisfied: packaging>=20.0 in c:\\users\\ganod\\appdata\\roaming\\python\\python312\\site-packages (from transformers) (24.1)\n",
      "Requirement already satisfied: pyyaml>=5.1 in c:\\users\\ganod\\appdata\\local\\programs\\python\\python312\\lib\\site-packages (from transformers) (6.0.2)\n",
      "Requirement already satisfied: regex!=2019.12.17 in c:\\users\\ganod\\appdata\\local\\programs\\python\\python312\\lib\\site-packages (from transformers) (2024.11.6)\n",
      "Requirement already satisfied: requests in c:\\users\\ganod\\appdata\\local\\programs\\python\\python312\\lib\\site-packages (from transformers) (2.32.3)\n",
      "Requirement already satisfied: tokenizers<0.22,>=0.21 in c:\\users\\ganod\\appdata\\local\\programs\\python\\python312\\lib\\site-packages (from transformers) (0.21.1)\n",
      "Requirement already satisfied: safetensors>=0.4.3 in c:\\users\\ganod\\appdata\\local\\programs\\python\\python312\\lib\\site-packages (from transformers) (0.5.3)\n",
      "Requirement already satisfied: tqdm>=4.27 in c:\\users\\ganod\\appdata\\local\\programs\\python\\python312\\lib\\site-packages (from transformers) (4.67.0)\n",
      "Requirement already satisfied: fsspec>=2023.5.0 in c:\\users\\ganod\\appdata\\local\\programs\\python\\python312\\lib\\site-packages (from huggingface-hub<1.0,>=0.30.0->transformers) (2024.9.0)\n",
      "Requirement already satisfied: typing-extensions>=3.7.4.3 in c:\\users\\ganod\\appdata\\local\\programs\\python\\python312\\lib\\site-packages (from huggingface-hub<1.0,>=0.30.0->transformers) (4.12.2)\n",
      "Requirement already satisfied: colorama in c:\\users\\ganod\\appdata\\roaming\\python\\python312\\site-packages (from tqdm>=4.27->transformers) (0.4.6)\n",
      "Requirement already satisfied: charset-normalizer<4,>=2 in c:\\users\\ganod\\appdata\\local\\programs\\python\\python312\\lib\\site-packages (from requests->transformers) (3.4.0)\n",
      "Requirement already satisfied: idna<4,>=2.5 in c:\\users\\ganod\\appdata\\local\\programs\\python\\python312\\lib\\site-packages (from requests->transformers) (3.10)\n",
      "Requirement already satisfied: urllib3<3,>=1.21.1 in c:\\users\\ganod\\appdata\\local\\programs\\python\\python312\\lib\\site-packages (from requests->transformers) (2.2.3)\n",
      "Requirement already satisfied: certifi>=2017.4.17 in c:\\users\\ganod\\appdata\\local\\programs\\python\\python312\\lib\\site-packages (from requests->transformers) (2024.8.30)\n"
     ]
    },
    {
     "name": "stderr",
     "output_type": "stream",
     "text": [
      "\n",
      "[notice] A new release of pip is available: 24.3.1 -> 25.1.1\n",
      "[notice] To update, run: python.exe -m pip install --upgrade pip\n"
     ]
    }
   ],
   "source": [
    "!pip install transformers"
   ]
  },
  {
   "cell_type": "code",
   "execution_count": 4,
   "metadata": {},
   "outputs": [
    {
     "name": "stdout",
     "output_type": "stream",
     "text": [
      "Requirement already satisfied: torch in c:\\users\\ganod\\appdata\\local\\programs\\python\\python312\\lib\\site-packages (2.5.1+cu124)\n",
      "Requirement already satisfied: filelock in c:\\users\\ganod\\appdata\\local\\programs\\python\\python312\\lib\\site-packages (from torch) (3.16.1)\n",
      "Requirement already satisfied: typing-extensions>=4.8.0 in c:\\users\\ganod\\appdata\\local\\programs\\python\\python312\\lib\\site-packages (from torch) (4.12.2)\n",
      "Requirement already satisfied: networkx in c:\\users\\ganod\\appdata\\local\\programs\\python\\python312\\lib\\site-packages (from torch) (3.4.1)\n",
      "Requirement already satisfied: jinja2 in c:\\users\\ganod\\appdata\\local\\programs\\python\\python312\\lib\\site-packages (from torch) (3.1.4)\n",
      "Requirement already satisfied: fsspec in c:\\users\\ganod\\appdata\\local\\programs\\python\\python312\\lib\\site-packages (from torch) (2024.9.0)\n",
      "Requirement already satisfied: setuptools in c:\\users\\ganod\\appdata\\local\\programs\\python\\python312\\lib\\site-packages (from torch) (75.1.0)\n",
      "Requirement already satisfied: sympy==1.13.1 in c:\\users\\ganod\\appdata\\local\\programs\\python\\python312\\lib\\site-packages (from torch) (1.13.1)\n",
      "Requirement already satisfied: mpmath<1.4,>=1.1.0 in c:\\users\\ganod\\appdata\\local\\programs\\python\\python312\\lib\\site-packages (from sympy==1.13.1->torch) (1.3.0)\n",
      "Requirement already satisfied: MarkupSafe>=2.0 in c:\\users\\ganod\\appdata\\local\\programs\\python\\python312\\lib\\site-packages (from jinja2->torch) (3.0.1)\n"
     ]
    },
    {
     "name": "stderr",
     "output_type": "stream",
     "text": [
      "\n",
      "[notice] A new release of pip is available: 24.3.1 -> 25.1.1\n",
      "[notice] To update, run: python.exe -m pip install --upgrade pip\n"
     ]
    }
   ],
   "source": [
    "!pip install torch"
   ]
  },
  {
   "cell_type": "code",
   "execution_count": 5,
   "metadata": {},
   "outputs": [
    {
     "name": "stdout",
     "output_type": "stream",
     "text": [
      "Requirement already satisfied: huggingface_hub[hf_xet] in c:\\users\\ganod\\appdata\\local\\programs\\python\\python312\\lib\\site-packages (0.30.2)\n",
      "Requirement already satisfied: filelock in c:\\users\\ganod\\appdata\\local\\programs\\python\\python312\\lib\\site-packages (from huggingface_hub[hf_xet]) (3.16.1)\n",
      "Requirement already satisfied: fsspec>=2023.5.0 in c:\\users\\ganod\\appdata\\local\\programs\\python\\python312\\lib\\site-packages (from huggingface_hub[hf_xet]) (2024.9.0)\n",
      "Requirement already satisfied: packaging>=20.9 in c:\\users\\ganod\\appdata\\roaming\\python\\python312\\site-packages (from huggingface_hub[hf_xet]) (24.1)\n",
      "Requirement already satisfied: pyyaml>=5.1 in c:\\users\\ganod\\appdata\\local\\programs\\python\\python312\\lib\\site-packages (from huggingface_hub[hf_xet]) (6.0.2)\n",
      "Requirement already satisfied: requests in c:\\users\\ganod\\appdata\\local\\programs\\python\\python312\\lib\\site-packages (from huggingface_hub[hf_xet]) (2.32.3)\n",
      "Requirement already satisfied: tqdm>=4.42.1 in c:\\users\\ganod\\appdata\\local\\programs\\python\\python312\\lib\\site-packages (from huggingface_hub[hf_xet]) (4.67.0)\n",
      "Requirement already satisfied: typing-extensions>=3.7.4.3 in c:\\users\\ganod\\appdata\\local\\programs\\python\\python312\\lib\\site-packages (from huggingface_hub[hf_xet]) (4.12.2)\n",
      "Requirement already satisfied: hf-xet>=0.1.4 in c:\\users\\ganod\\appdata\\local\\programs\\python\\python312\\lib\\site-packages (from huggingface_hub[hf_xet]) (1.1.0)\n",
      "Requirement already satisfied: colorama in c:\\users\\ganod\\appdata\\roaming\\python\\python312\\site-packages (from tqdm>=4.42.1->huggingface_hub[hf_xet]) (0.4.6)\n",
      "Requirement already satisfied: charset-normalizer<4,>=2 in c:\\users\\ganod\\appdata\\local\\programs\\python\\python312\\lib\\site-packages (from requests->huggingface_hub[hf_xet]) (3.4.0)\n",
      "Requirement already satisfied: idna<4,>=2.5 in c:\\users\\ganod\\appdata\\local\\programs\\python\\python312\\lib\\site-packages (from requests->huggingface_hub[hf_xet]) (3.10)\n",
      "Requirement already satisfied: urllib3<3,>=1.21.1 in c:\\users\\ganod\\appdata\\local\\programs\\python\\python312\\lib\\site-packages (from requests->huggingface_hub[hf_xet]) (2.2.3)\n",
      "Requirement already satisfied: certifi>=2017.4.17 in c:\\users\\ganod\\appdata\\local\\programs\\python\\python312\\lib\\site-packages (from requests->huggingface_hub[hf_xet]) (2024.8.30)\n"
     ]
    },
    {
     "name": "stderr",
     "output_type": "stream",
     "text": [
      "\n",
      "[notice] A new release of pip is available: 24.3.1 -> 25.1.1\n",
      "[notice] To update, run: python.exe -m pip install --upgrade pip\n"
     ]
    }
   ],
   "source": [
    "!pip install huggingface_hub[hf_xet]"
   ]
  },
  {
   "cell_type": "code",
   "execution_count": 6,
   "metadata": {},
   "outputs": [
    {
     "name": "stdout",
     "output_type": "stream",
     "text": [
      "Requirement already satisfied: emoji==0.6.0 in c:\\users\\ganod\\appdata\\local\\programs\\python\\python312\\lib\\site-packages (0.6.0)\n"
     ]
    },
    {
     "name": "stderr",
     "output_type": "stream",
     "text": [
      "\n",
      "[notice] A new release of pip is available: 24.3.1 -> 25.1.1\n",
      "[notice] To update, run: python.exe -m pip install --upgrade pip\n"
     ]
    }
   ],
   "source": [
    "!pip3 install emoji==0.6.0"
   ]
  },
  {
   "cell_type": "code",
   "execution_count": 7,
   "metadata": {},
   "outputs": [
    {
     "name": "stdout",
     "output_type": "stream",
     "text": [
      "Requirement already satisfied: deep-translator in c:\\users\\ganod\\appdata\\local\\programs\\python\\python312\\lib\\site-packages (1.11.4)\n",
      "Requirement already satisfied: beautifulsoup4<5.0.0,>=4.9.1 in c:\\users\\ganod\\appdata\\local\\programs\\python\\python312\\lib\\site-packages (from deep-translator) (4.12.3)\n",
      "Requirement already satisfied: requests<3.0.0,>=2.23.0 in c:\\users\\ganod\\appdata\\local\\programs\\python\\python312\\lib\\site-packages (from deep-translator) (2.32.3)\n",
      "Requirement already satisfied: soupsieve>1.2 in c:\\users\\ganod\\appdata\\local\\programs\\python\\python312\\lib\\site-packages (from beautifulsoup4<5.0.0,>=4.9.1->deep-translator) (2.6)\n",
      "Requirement already satisfied: charset-normalizer<4,>=2 in c:\\users\\ganod\\appdata\\local\\programs\\python\\python312\\lib\\site-packages (from requests<3.0.0,>=2.23.0->deep-translator) (3.4.0)\n",
      "Requirement already satisfied: idna<4,>=2.5 in c:\\users\\ganod\\appdata\\local\\programs\\python\\python312\\lib\\site-packages (from requests<3.0.0,>=2.23.0->deep-translator) (3.10)\n",
      "Requirement already satisfied: urllib3<3,>=1.21.1 in c:\\users\\ganod\\appdata\\local\\programs\\python\\python312\\lib\\site-packages (from requests<3.0.0,>=2.23.0->deep-translator) (2.2.3)\n",
      "Requirement already satisfied: certifi>=2017.4.17 in c:\\users\\ganod\\appdata\\local\\programs\\python\\python312\\lib\\site-packages (from requests<3.0.0,>=2.23.0->deep-translator) (2024.8.30)\n"
     ]
    },
    {
     "name": "stderr",
     "output_type": "stream",
     "text": [
      "\n",
      "[notice] A new release of pip is available: 24.3.1 -> 25.1.1\n",
      "[notice] To update, run: python.exe -m pip install --upgrade pip\n"
     ]
    }
   ],
   "source": [
    "!pip install deep-translator"
   ]
  },
  {
   "cell_type": "code",
   "execution_count": 8,
   "metadata": {},
   "outputs": [
    {
     "name": "stdout",
     "output_type": "stream",
     "text": [
      "Requirement already satisfied: sentence_transformers in c:\\users\\ganod\\appdata\\local\\programs\\python\\python312\\lib\\site-packages (4.1.0)\n",
      "Requirement already satisfied: transformers<5.0.0,>=4.41.0 in c:\\users\\ganod\\appdata\\local\\programs\\python\\python312\\lib\\site-packages (from sentence_transformers) (4.51.3)\n",
      "Requirement already satisfied: tqdm in c:\\users\\ganod\\appdata\\local\\programs\\python\\python312\\lib\\site-packages (from sentence_transformers) (4.67.0)\n",
      "Requirement already satisfied: torch>=1.11.0 in c:\\users\\ganod\\appdata\\local\\programs\\python\\python312\\lib\\site-packages (from sentence_transformers) (2.5.1+cu124)\n",
      "Requirement already satisfied: scikit-learn in c:\\users\\ganod\\appdata\\local\\programs\\python\\python312\\lib\\site-packages (from sentence_transformers) (1.5.2)\n",
      "Requirement already satisfied: scipy in c:\\users\\ganod\\appdata\\local\\programs\\python\\python312\\lib\\site-packages (from sentence_transformers) (1.14.1)\n",
      "Requirement already satisfied: huggingface-hub>=0.20.0 in c:\\users\\ganod\\appdata\\local\\programs\\python\\python312\\lib\\site-packages (from sentence_transformers) (0.30.2)\n",
      "Requirement already satisfied: Pillow in c:\\users\\ganod\\appdata\\local\\programs\\python\\python312\\lib\\site-packages (from sentence_transformers) (10.4.0)\n",
      "Requirement already satisfied: typing_extensions>=4.5.0 in c:\\users\\ganod\\appdata\\local\\programs\\python\\python312\\lib\\site-packages (from sentence_transformers) (4.12.2)\n",
      "Requirement already satisfied: filelock in c:\\users\\ganod\\appdata\\local\\programs\\python\\python312\\lib\\site-packages (from huggingface-hub>=0.20.0->sentence_transformers) (3.16.1)\n",
      "Requirement already satisfied: fsspec>=2023.5.0 in c:\\users\\ganod\\appdata\\local\\programs\\python\\python312\\lib\\site-packages (from huggingface-hub>=0.20.0->sentence_transformers) (2024.9.0)\n",
      "Requirement already satisfied: packaging>=20.9 in c:\\users\\ganod\\appdata\\roaming\\python\\python312\\site-packages (from huggingface-hub>=0.20.0->sentence_transformers) (24.1)\n",
      "Requirement already satisfied: pyyaml>=5.1 in c:\\users\\ganod\\appdata\\local\\programs\\python\\python312\\lib\\site-packages (from huggingface-hub>=0.20.0->sentence_transformers) (6.0.2)\n",
      "Requirement already satisfied: requests in c:\\users\\ganod\\appdata\\local\\programs\\python\\python312\\lib\\site-packages (from huggingface-hub>=0.20.0->sentence_transformers) (2.32.3)\n",
      "Requirement already satisfied: networkx in c:\\users\\ganod\\appdata\\local\\programs\\python\\python312\\lib\\site-packages (from torch>=1.11.0->sentence_transformers) (3.4.1)\n",
      "Requirement already satisfied: jinja2 in c:\\users\\ganod\\appdata\\local\\programs\\python\\python312\\lib\\site-packages (from torch>=1.11.0->sentence_transformers) (3.1.4)\n",
      "Requirement already satisfied: setuptools in c:\\users\\ganod\\appdata\\local\\programs\\python\\python312\\lib\\site-packages (from torch>=1.11.0->sentence_transformers) (75.1.0)\n",
      "Requirement already satisfied: sympy==1.13.1 in c:\\users\\ganod\\appdata\\local\\programs\\python\\python312\\lib\\site-packages (from torch>=1.11.0->sentence_transformers) (1.13.1)\n",
      "Requirement already satisfied: mpmath<1.4,>=1.1.0 in c:\\users\\ganod\\appdata\\local\\programs\\python\\python312\\lib\\site-packages (from sympy==1.13.1->torch>=1.11.0->sentence_transformers) (1.3.0)\n",
      "Requirement already satisfied: colorama in c:\\users\\ganod\\appdata\\roaming\\python\\python312\\site-packages (from tqdm->sentence_transformers) (0.4.6)\n",
      "Requirement already satisfied: numpy>=1.17 in c:\\users\\ganod\\appdata\\local\\programs\\python\\python312\\lib\\site-packages (from transformers<5.0.0,>=4.41.0->sentence_transformers) (2.2.5)\n",
      "Requirement already satisfied: regex!=2019.12.17 in c:\\users\\ganod\\appdata\\local\\programs\\python\\python312\\lib\\site-packages (from transformers<5.0.0,>=4.41.0->sentence_transformers) (2024.11.6)\n",
      "Requirement already satisfied: tokenizers<0.22,>=0.21 in c:\\users\\ganod\\appdata\\local\\programs\\python\\python312\\lib\\site-packages (from transformers<5.0.0,>=4.41.0->sentence_transformers) (0.21.1)\n",
      "Requirement already satisfied: safetensors>=0.4.3 in c:\\users\\ganod\\appdata\\local\\programs\\python\\python312\\lib\\site-packages (from transformers<5.0.0,>=4.41.0->sentence_transformers) (0.5.3)\n",
      "Requirement already satisfied: joblib>=1.2.0 in c:\\users\\ganod\\appdata\\local\\programs\\python\\python312\\lib\\site-packages (from scikit-learn->sentence_transformers) (1.4.2)\n",
      "Requirement already satisfied: threadpoolctl>=3.1.0 in c:\\users\\ganod\\appdata\\local\\programs\\python\\python312\\lib\\site-packages (from scikit-learn->sentence_transformers) (3.5.0)\n",
      "Requirement already satisfied: MarkupSafe>=2.0 in c:\\users\\ganod\\appdata\\local\\programs\\python\\python312\\lib\\site-packages (from jinja2->torch>=1.11.0->sentence_transformers) (3.0.1)\n",
      "Requirement already satisfied: charset-normalizer<4,>=2 in c:\\users\\ganod\\appdata\\local\\programs\\python\\python312\\lib\\site-packages (from requests->huggingface-hub>=0.20.0->sentence_transformers) (3.4.0)\n",
      "Requirement already satisfied: idna<4,>=2.5 in c:\\users\\ganod\\appdata\\local\\programs\\python\\python312\\lib\\site-packages (from requests->huggingface-hub>=0.20.0->sentence_transformers) (3.10)\n",
      "Requirement already satisfied: urllib3<3,>=1.21.1 in c:\\users\\ganod\\appdata\\local\\programs\\python\\python312\\lib\\site-packages (from requests->huggingface-hub>=0.20.0->sentence_transformers) (2.2.3)\n",
      "Requirement already satisfied: certifi>=2017.4.17 in c:\\users\\ganod\\appdata\\local\\programs\\python\\python312\\lib\\site-packages (from requests->huggingface-hub>=0.20.0->sentence_transformers) (2024.8.30)\n"
     ]
    },
    {
     "name": "stderr",
     "output_type": "stream",
     "text": [
      "\n",
      "[notice] A new release of pip is available: 24.3.1 -> 25.1.1\n",
      "[notice] To update, run: python.exe -m pip install --upgrade pip\n"
     ]
    }
   ],
   "source": [
    "!pip install sentence_transformers"
   ]
  },
  {
   "cell_type": "markdown",
   "metadata": {},
   "source": [
    "## Construcción inicial del dataframe"
   ]
  },
  {
   "cell_type": "code",
   "execution_count": 9,
   "metadata": {},
   "outputs": [],
   "source": [
    "# Importación de librerías\n",
    "import pandas as pd\n",
    "import matplotlib.pyplot as plt\n",
    "import seaborn as sns\n",
    "import re\n",
    "from pathlib import Path\n",
    "import spacy\n",
    "from collections import Counter\n",
    "\n",
    "# Cargar modelo de NLP\n",
    "nlp = spacy.load('es_core_news_md')"
   ]
  },
  {
   "cell_type": "code",
   "execution_count": 10,
   "metadata": {},
   "outputs": [
    {
     "data": {
      "text/html": [
       "<div>\n",
       "<style scoped>\n",
       "    .dataframe tbody tr th:only-of-type {\n",
       "        vertical-align: middle;\n",
       "    }\n",
       "\n",
       "    .dataframe tbody tr th {\n",
       "        vertical-align: top;\n",
       "    }\n",
       "\n",
       "    .dataframe thead th {\n",
       "        text-align: right;\n",
       "    }\n",
       "</style>\n",
       "<table border=\"1\" class=\"dataframe\">\n",
       "  <thead>\n",
       "    <tr style=\"text-align: right;\">\n",
       "      <th></th>\n",
       "      <th>escena_texto</th>\n",
       "      <th>num_palabras</th>\n",
       "    </tr>\n",
       "  </thead>\n",
       "  <tbody>\n",
       "    <tr>\n",
       "      <th>0</th>\n",
       "      <td>Los Californios\\n1\\nAutor. Carlos Peralta Dávi...</td>\n",
       "      <td>5665</td>\n",
       "    </tr>\n",
       "    <tr>\n",
       "      <th>1</th>\n",
       "      <td>DESIERTO DE SONORA Y ARIZONA – AMANECER\\n\\nImá...</td>\n",
       "      <td>594</td>\n",
       "    </tr>\n",
       "    <tr>\n",
       "      <th>2</th>\n",
       "      <td>2465 34TH AVE, OAKLAND – DÍA\\n\\n\\nSOBREPUESTO\\...</td>\n",
       "      <td>1069</td>\n",
       "    </tr>\n",
       "    <tr>\n",
       "      <th>3</th>\n",
       "      <td>MARKET STREET, SAN FRANCISCO - DÍA\\nLa carreta...</td>\n",
       "      <td>187</td>\n",
       "    </tr>\n",
       "    <tr>\n",
       "      <th>4</th>\n",
       "      <td>CALIFORNIA STREET SAN FRANCISCO- DÍA\\n\\n\\nLa c...</td>\n",
       "      <td>97</td>\n",
       "    </tr>\n",
       "  </tbody>\n",
       "</table>\n",
       "</div>"
      ],
      "text/plain": [
       "                                        escena_texto  num_palabras\n",
       "0  Los Californios\\n1\\nAutor. Carlos Peralta Dávi...          5665\n",
       "1  DESIERTO DE SONORA Y ARIZONA – AMANECER\\n\\nImá...           594\n",
       "2  2465 34TH AVE, OAKLAND – DÍA\\n\\n\\nSOBREPUESTO\\...          1069\n",
       "3  MARKET STREET, SAN FRANCISCO - DÍA\\nLa carreta...           187\n",
       "4  CALIFORNIA STREET SAN FRANCISCO- DÍA\\n\\n\\nLa c...            97"
      ]
     },
     "execution_count": 10,
     "metadata": {},
     "output_type": "execute_result"
    }
   ],
   "source": [
    "# Carga y limpieza del guion\n",
    "ruta_guion = Path('../data/LosCaliforniosScript.txt')\n",
    "with open(ruta_guion, encoding='utf-8') as f:\n",
    "    guion_crudo = f.read()\n",
    "\n",
    "# Separación preliminar por escenas\n",
    "escenas = re.split(r'\\n\\(\\d+\\)\\s+(EXT\\.|INT\\.)', guion_crudo)\n",
    "escenas = [e.strip() for e in escenas if len(e.strip()) > 100]\n",
    "\n",
    "df = pd.DataFrame({'escena_texto': escenas})\n",
    "df['num_palabras'] = df['escena_texto'].apply(lambda x: len(x.split()))\n",
    "df.head()"
   ]
  },
  {
   "cell_type": "code",
   "execution_count": 11,
   "metadata": {},
   "outputs": [
    {
     "data": {
      "text/html": [
       "<div>\n",
       "<style scoped>\n",
       "    .dataframe tbody tr th:only-of-type {\n",
       "        vertical-align: middle;\n",
       "    }\n",
       "\n",
       "    .dataframe tbody tr th {\n",
       "        vertical-align: top;\n",
       "    }\n",
       "\n",
       "    .dataframe thead th {\n",
       "        text-align: right;\n",
       "    }\n",
       "</style>\n",
       "<table border=\"1\" class=\"dataframe\">\n",
       "  <thead>\n",
       "    <tr style=\"text-align: right;\">\n",
       "      <th></th>\n",
       "      <th>escena_texto</th>\n",
       "      <th>personajes_filtrados</th>\n",
       "    </tr>\n",
       "  </thead>\n",
       "  <tbody>\n",
       "    <tr>\n",
       "      <th>0</th>\n",
       "      <td>Los Californios\\n1\\nAutor. Carlos Peralta Dávi...</td>\n",
       "      <td>[Peter, De Anza, Pablo, Mariana, Josefa Ramos,...</td>\n",
       "    </tr>\n",
       "    <tr>\n",
       "      <th>1</th>\n",
       "      <td>DESIERTO DE SONORA Y ARIZONA – AMANECER\\n\\nImá...</td>\n",
       "      <td>[]</td>\n",
       "    </tr>\n",
       "    <tr>\n",
       "      <th>2</th>\n",
       "      <td>2465 34TH AVE, OAKLAND – DÍA\\n\\n\\nSOBREPUESTO\\...</td>\n",
       "      <td>[Pablo, San Antonio, Zoey, Luis María, Peralta]</td>\n",
       "    </tr>\n",
       "    <tr>\n",
       "      <th>3</th>\n",
       "      <td>MARKET STREET, SAN FRANCISCO - DÍA\\nLa carreta...</td>\n",
       "      <td>[Luis María]</td>\n",
       "    </tr>\n",
       "    <tr>\n",
       "      <th>4</th>\n",
       "      <td>CALIFORNIA STREET SAN FRANCISCO- DÍA\\n\\n\\nLa c...</td>\n",
       "      <td>[]</td>\n",
       "    </tr>\n",
       "  </tbody>\n",
       "</table>\n",
       "</div>"
      ],
      "text/plain": [
       "                                        escena_texto  \\\n",
       "0  Los Californios\\n1\\nAutor. Carlos Peralta Dávi...   \n",
       "1  DESIERTO DE SONORA Y ARIZONA – AMANECER\\n\\nImá...   \n",
       "2  2465 34TH AVE, OAKLAND – DÍA\\n\\n\\nSOBREPUESTO\\...   \n",
       "3  MARKET STREET, SAN FRANCISCO - DÍA\\nLa carreta...   \n",
       "4  CALIFORNIA STREET SAN FRANCISCO- DÍA\\n\\n\\nLa c...   \n",
       "\n",
       "                                personajes_filtrados  \n",
       "0  [Peter, De Anza, Pablo, Mariana, Josefa Ramos,...  \n",
       "1                                                 []  \n",
       "2    [Pablo, San Antonio, Zoey, Luis María, Peralta]  \n",
       "3                                       [Luis María]  \n",
       "4                                                 []  "
      ]
     },
     "execution_count": 11,
     "metadata": {},
     "output_type": "execute_result"
    }
   ],
   "source": [
    "# Extracción de personajes con NLP\n",
    "df['doc'] = df['escena_texto'].apply(nlp)\n",
    "df['personajes'] = df['doc'].apply(lambda d: list(set([ent.text for ent in d.ents if ent.label_ == 'PER'])))\n",
    "\n",
    "from collections import Counter\n",
    "\n",
    "personajes_todos = df['personajes'].explode()\n",
    "conteo_personajes = Counter(personajes_todos)\n",
    "\n",
    "personajes_filtrados = [p for p, c in conteo_personajes.items() if c >= 5 and len (p.split()) <= 3]\n",
    "df['personajes_filtrados'] = df['personajes'].apply(lambda lista: [p for p in lista if p in personajes_filtrados])\n",
    "\n",
    "df[['escena_texto', 'personajes_filtrados']].head()"
   ]
  },
  {
   "cell_type": "markdown",
   "metadata": {},
   "source": [
    "## Clasificación automática de emociones por escena"
   ]
  },
  {
   "cell_type": "code",
   "execution_count": null,
   "metadata": {},
   "outputs": [
    {
     "name": "stderr",
     "output_type": "stream",
     "text": [
      "c:\\Users\\ganod\\AppData\\Local\\Programs\\Python\\Python312\\Lib\\site-packages\\tqdm\\auto.py:21: TqdmWarning: IProgress not found. Please update jupyter and ipywidgets. See https://ipywidgets.readthedocs.io/en/stable/user_install.html\n",
      "  from .autonotebook import tqdm as notebook_tqdm\n"
     ]
    }
   ],
   "source": [
    "from huggingface_hub import login\n",
    "login('TOKEN')"
   ]
  },
  {
   "cell_type": "code",
   "execution_count": 13,
   "metadata": {},
   "outputs": [
    {
     "name": "stderr",
     "output_type": "stream",
     "text": [
      "Device set to use cpu\n"
     ]
    },
    {
     "data": {
      "text/html": [
       "<div>\n",
       "<style scoped>\n",
       "    .dataframe tbody tr th:only-of-type {\n",
       "        vertical-align: middle;\n",
       "    }\n",
       "\n",
       "    .dataframe tbody tr th {\n",
       "        vertical-align: top;\n",
       "    }\n",
       "\n",
       "    .dataframe thead th {\n",
       "        text-align: right;\n",
       "    }\n",
       "</style>\n",
       "<table border=\"1\" class=\"dataframe\">\n",
       "  <thead>\n",
       "    <tr style=\"text-align: right;\">\n",
       "      <th></th>\n",
       "      <th>escena_texto</th>\n",
       "      <th>emocion</th>\n",
       "    </tr>\n",
       "  </thead>\n",
       "  <tbody>\n",
       "    <tr>\n",
       "      <th>0</th>\n",
       "      <td>Los Californios\\n1\\nAutor. Carlos Peralta Dávi...</td>\n",
       "      <td>neutral</td>\n",
       "    </tr>\n",
       "    <tr>\n",
       "      <th>1</th>\n",
       "      <td>DESIERTO DE SONORA Y ARIZONA – AMANECER\\n\\nImá...</td>\n",
       "      <td>anger</td>\n",
       "    </tr>\n",
       "    <tr>\n",
       "      <th>2</th>\n",
       "      <td>2465 34TH AVE, OAKLAND – DÍA\\n\\n\\nSOBREPUESTO\\...</td>\n",
       "      <td>joy</td>\n",
       "    </tr>\n",
       "    <tr>\n",
       "      <th>3</th>\n",
       "      <td>MARKET STREET, SAN FRANCISCO - DÍA\\nLa carreta...</td>\n",
       "      <td>joy</td>\n",
       "    </tr>\n",
       "    <tr>\n",
       "      <th>4</th>\n",
       "      <td>CALIFORNIA STREET SAN FRANCISCO- DÍA\\n\\n\\nLa c...</td>\n",
       "      <td>fear</td>\n",
       "    </tr>\n",
       "  </tbody>\n",
       "</table>\n",
       "</div>"
      ],
      "text/plain": [
       "                                        escena_texto  emocion\n",
       "0  Los Californios\\n1\\nAutor. Carlos Peralta Dávi...  neutral\n",
       "1  DESIERTO DE SONORA Y ARIZONA – AMANECER\\n\\nImá...    anger\n",
       "2  2465 34TH AVE, OAKLAND – DÍA\\n\\n\\nSOBREPUESTO\\...      joy\n",
       "3  MARKET STREET, SAN FRANCISCO - DÍA\\nLa carreta...      joy\n",
       "4  CALIFORNIA STREET SAN FRANCISCO- DÍA\\n\\n\\nLa c...     fear"
      ]
     },
     "execution_count": 13,
     "metadata": {},
     "output_type": "execute_result"
    }
   ],
   "source": [
    "from transformers import pipeline\n",
    "from deep_translator import GoogleTranslator\n",
    "\n",
    "emotion_classifier = pipeline('text-classification', model='j-hartmann/emotion-english-distilroberta-base', top_k=1, device=-1)\n",
    "translator = GoogleTranslator(source='es', target='en')\n",
    "\n",
    "def detectar_emocion(texto):\n",
    "    try:\n",
    "        oraciones = re.split(r'[.!?]', texto)\n",
    "        entrada = ' '.join(oraciones[:5]).strip()[:300]\n",
    "        entrada_en = translator.translate(entrada)\n",
    "        result = emotion_classifier(entrada_en)\n",
    "        return result[0][0].get('label', 'desconocido')\n",
    "    except Exception as e:\n",
    "        print(f'Error:', e)\n",
    "        return 'desconocido'\n",
    "    \n",
    "df['emocion'] = df['escena_texto'].apply(detectar_emocion)\n",
    "df[['escena_texto', 'emocion']].head()"
   ]
  },
  {
   "cell_type": "markdown",
   "metadata": {},
   "source": [
    "## Clustering temático con Sentence Transformers"
   ]
  },
  {
   "cell_type": "code",
   "execution_count": 14,
   "metadata": {},
   "outputs": [
    {
     "data": {
      "text/html": [
       "<div>\n",
       "<style scoped>\n",
       "    .dataframe tbody tr th:only-of-type {\n",
       "        vertical-align: middle;\n",
       "    }\n",
       "\n",
       "    .dataframe tbody tr th {\n",
       "        vertical-align: top;\n",
       "    }\n",
       "\n",
       "    .dataframe thead th {\n",
       "        text-align: right;\n",
       "    }\n",
       "</style>\n",
       "<table border=\"1\" class=\"dataframe\">\n",
       "  <thead>\n",
       "    <tr style=\"text-align: right;\">\n",
       "      <th></th>\n",
       "      <th>tema_cluster</th>\n",
       "      <th>escena_texto</th>\n",
       "    </tr>\n",
       "  </thead>\n",
       "  <tbody>\n",
       "    <tr>\n",
       "      <th>0</th>\n",
       "      <td>3</td>\n",
       "      <td>Los Californios\\n1\\nAutor. Carlos Peralta Dávi...</td>\n",
       "    </tr>\n",
       "    <tr>\n",
       "      <th>1</th>\n",
       "      <td>1</td>\n",
       "      <td>DESIERTO DE SONORA Y ARIZONA – AMANECER\\n\\nImá...</td>\n",
       "    </tr>\n",
       "    <tr>\n",
       "      <th>3</th>\n",
       "      <td>2</td>\n",
       "      <td>MARKET STREET, SAN FRANCISCO - DÍA\\nLa carreta...</td>\n",
       "    </tr>\n",
       "    <tr>\n",
       "      <th>14</th>\n",
       "      <td>4</td>\n",
       "      <td>FRENTE IGLESIA – TUBAC SONORA – DÍA\\n\\nSOBREPU...</td>\n",
       "    </tr>\n",
       "    <tr>\n",
       "      <th>18</th>\n",
       "      <td>0</td>\n",
       "      <td>CASA DE LA FAMILIA – CONTINUA\\n\\n\\nLa HIJA, es...</td>\n",
       "    </tr>\n",
       "  </tbody>\n",
       "</table>\n",
       "</div>"
      ],
      "text/plain": [
       "    tema_cluster                                       escena_texto\n",
       "0              3  Los Californios\\n1\\nAutor. Carlos Peralta Dávi...\n",
       "1              1  DESIERTO DE SONORA Y ARIZONA – AMANECER\\n\\nImá...\n",
       "3              2  MARKET STREET, SAN FRANCISCO - DÍA\\nLa carreta...\n",
       "14             4  FRENTE IGLESIA – TUBAC SONORA – DÍA\\n\\nSOBREPU...\n",
       "18             0  CASA DE LA FAMILIA – CONTINUA\\n\\n\\nLa HIJA, es..."
      ]
     },
     "execution_count": 14,
     "metadata": {},
     "output_type": "execute_result"
    }
   ],
   "source": [
    "from sentence_transformers import SentenceTransformer\n",
    "from sklearn.cluster import KMeans\n",
    "\n",
    "model = SentenceTransformer('distiluse-base-multilingual-cased-v1', device='cpu')\n",
    "embeddings = model.encode(df['escena_texto'].tolist())\n",
    "kmeans = KMeans(n_clusters=5, random_state=42)\n",
    "df['tema_cluster'] = kmeans.fit_predict(embeddings)\n",
    "df[['tema_cluster', 'escena_texto']].groupby('tema_cluster').head(1)"
   ]
  },
  {
   "cell_type": "markdown",
   "metadata": {},
   "source": [
    "## Limpieza y tratamiento de valores nulos o atípicos"
   ]
  },
  {
   "cell_type": "code",
   "execution_count": 15,
   "metadata": {},
   "outputs": [
    {
     "name": "stdout",
     "output_type": "stream",
     "text": [
      "Valores nulos por columna: \n",
      "escena_texto            0\n",
      "num_palabras            0\n",
      "doc                     0\n",
      "personajes              0\n",
      "personajes_filtrados    0\n",
      "emocion                 0\n",
      "tema_cluster            0\n",
      "escena_text             0\n",
      "dtype: int64\n"
     ]
    }
   ],
   "source": [
    "df['escena_text'] = df['escena_texto'].str.strip()\n",
    "print('Valores nulos por columna: ')\n",
    "print(df.isnull().sum())\n",
    "df.fillna(\"desconocido\", inplace=True)"
   ]
  },
  {
   "cell_type": "code",
   "execution_count": 16,
   "metadata": {},
   "outputs": [],
   "source": [
    "# Calcular datos necesarios para el dashboard\n",
    "\n",
    "# Escenas por personaje (Top 10)\n",
    "personajes_escenas = df['personajes_filtrados'].explode().value_counts().head(10)\n",
    "\n",
    "# Emociones detectadas\n",
    "emociones = df['emocion'].value_counts()\n",
    "\n",
    "# Clusters temáticos (si existe esa columna)\n",
    "if 'tema_cluster' in df.columns:\n",
    "    temas = df['tema_cluster'].value_counts().sort_index()\n",
    "else:\n",
    "    temas = pd.Series()\n"
   ]
  },
  {
   "cell_type": "markdown",
   "metadata": {},
   "source": [
    "## Importación de paquetes necesarios"
   ]
  },
  {
   "cell_type": "code",
   "execution_count": 17,
   "metadata": {},
   "outputs": [],
   "source": [
    "from sklearn.preprocessing import MinMaxScaler\n",
    "from sklearn.decomposition import PCA\n",
    "from sklearn.feature_selection import VarianceThreshold"
   ]
  },
  {
   "cell_type": "markdown",
   "metadata": {},
   "source": [
    "## Generación y codificación de nuevas características"
   ]
  },
  {
   "cell_type": "code",
   "execution_count": 18,
   "metadata": {},
   "outputs": [
    {
     "data": {
      "text/html": [
       "<div>\n",
       "<style scoped>\n",
       "    .dataframe tbody tr th:only-of-type {\n",
       "        vertical-align: middle;\n",
       "    }\n",
       "\n",
       "    .dataframe tbody tr th {\n",
       "        vertical-align: top;\n",
       "    }\n",
       "\n",
       "    .dataframe thead th {\n",
       "        text-align: right;\n",
       "    }\n",
       "</style>\n",
       "<table border=\"1\" class=\"dataframe\">\n",
       "  <thead>\n",
       "    <tr style=\"text-align: right;\">\n",
       "      <th></th>\n",
       "      <th>escena_texto</th>\n",
       "      <th>num_palabras</th>\n",
       "      <th>doc</th>\n",
       "      <th>personajes</th>\n",
       "      <th>personajes_filtrados</th>\n",
       "      <th>emocion</th>\n",
       "      <th>tema_cluster</th>\n",
       "      <th>escena_text</th>\n",
       "      <th>em_anger</th>\n",
       "      <th>em_disgust</th>\n",
       "      <th>em_fear</th>\n",
       "      <th>em_joy</th>\n",
       "      <th>em_neutral</th>\n",
       "      <th>em_sadness</th>\n",
       "      <th>num_personajes</th>\n",
       "      <th>escena_coral</th>\n",
       "    </tr>\n",
       "  </thead>\n",
       "  <tbody>\n",
       "    <tr>\n",
       "      <th>0</th>\n",
       "      <td>Los Californios\\n1\\nAutor. Carlos Peralta Dávi...</td>\n",
       "      <td>5665</td>\n",
       "      <td>(Los, Californios, \\n, 1, \\n, Autor, ., Carlos...</td>\n",
       "      <td>[Peter, Sophie, De Anza, Peter O’Farrel, Carlo...</td>\n",
       "      <td>[Peter, De Anza, Pablo, Mariana, Josefa Ramos,...</td>\n",
       "      <td>neutral</td>\n",
       "      <td>3</td>\n",
       "      <td>Los Californios\\n1\\nAutor. Carlos Peralta Dávi...</td>\n",
       "      <td>False</td>\n",
       "      <td>False</td>\n",
       "      <td>False</td>\n",
       "      <td>False</td>\n",
       "      <td>True</td>\n",
       "      <td>False</td>\n",
       "      <td>15</td>\n",
       "      <td>1</td>\n",
       "    </tr>\n",
       "    <tr>\n",
       "      <th>1</th>\n",
       "      <td>DESIERTO DE SONORA Y ARIZONA – AMANECER\\n\\nImá...</td>\n",
       "      <td>594</td>\n",
       "      <td>(DESIERTO, DE, SONORA, Y, ARIZONA, –, AMANECER...</td>\n",
       "      <td>[Californios]</td>\n",
       "      <td>[]</td>\n",
       "      <td>anger</td>\n",
       "      <td>1</td>\n",
       "      <td>DESIERTO DE SONORA Y ARIZONA – AMANECER\\n\\nImá...</td>\n",
       "      <td>True</td>\n",
       "      <td>False</td>\n",
       "      <td>False</td>\n",
       "      <td>False</td>\n",
       "      <td>False</td>\n",
       "      <td>False</td>\n",
       "      <td>0</td>\n",
       "      <td>0</td>\n",
       "    </tr>\n",
       "    <tr>\n",
       "      <th>2</th>\n",
       "      <td>2465 34TH AVE, OAKLAND – DÍA\\n\\n\\nSOBREPUESTO\\...</td>\n",
       "      <td>1069</td>\n",
       "      <td>(2465, 34TH, AVE, ,, OAKLAND, –, DÍA, \\n\\n\\n, ...</td>\n",
       "      <td>[María Alicia, 34TH AVE, O'FARRELL, Luis María...</td>\n",
       "      <td>[Pablo, San Antonio, Zoey, Luis María, Peralta]</td>\n",
       "      <td>joy</td>\n",
       "      <td>3</td>\n",
       "      <td>2465 34TH AVE, OAKLAND – DÍA\\n\\n\\nSOBREPUESTO\\...</td>\n",
       "      <td>False</td>\n",
       "      <td>False</td>\n",
       "      <td>False</td>\n",
       "      <td>True</td>\n",
       "      <td>False</td>\n",
       "      <td>False</td>\n",
       "      <td>5</td>\n",
       "      <td>1</td>\n",
       "    </tr>\n",
       "    <tr>\n",
       "      <th>3</th>\n",
       "      <td>MARKET STREET, SAN FRANCISCO - DÍA\\nLa carreta...</td>\n",
       "      <td>187</td>\n",
       "      <td>(MARKET, STREET, ,, SAN, FRANCISCO, -, DÍA, \\n...</td>\n",
       "      <td>[Luis María Peralta Valenzuela, Distinguished ...</td>\n",
       "      <td>[Luis María]</td>\n",
       "      <td>joy</td>\n",
       "      <td>2</td>\n",
       "      <td>MARKET STREET, SAN FRANCISCO - DÍA\\nLa carreta...</td>\n",
       "      <td>False</td>\n",
       "      <td>False</td>\n",
       "      <td>False</td>\n",
       "      <td>True</td>\n",
       "      <td>False</td>\n",
       "      <td>False</td>\n",
       "      <td>1</td>\n",
       "      <td>0</td>\n",
       "    </tr>\n",
       "    <tr>\n",
       "      <th>4</th>\n",
       "      <td>CALIFORNIA STREET SAN FRANCISCO- DÍA\\n\\n\\nLa c...</td>\n",
       "      <td>97</td>\n",
       "      <td>(CALIFORNIA, STREET, SAN, FRANCISCO-, DÍA, \\n\\...</td>\n",
       "      <td>[]</td>\n",
       "      <td>[]</td>\n",
       "      <td>fear</td>\n",
       "      <td>2</td>\n",
       "      <td>CALIFORNIA STREET SAN FRANCISCO- DÍA\\n\\n\\nLa c...</td>\n",
       "      <td>False</td>\n",
       "      <td>False</td>\n",
       "      <td>True</td>\n",
       "      <td>False</td>\n",
       "      <td>False</td>\n",
       "      <td>False</td>\n",
       "      <td>0</td>\n",
       "      <td>0</td>\n",
       "    </tr>\n",
       "  </tbody>\n",
       "</table>\n",
       "</div>"
      ],
      "text/plain": [
       "                                        escena_texto  num_palabras  \\\n",
       "0  Los Californios\\n1\\nAutor. Carlos Peralta Dávi...          5665   \n",
       "1  DESIERTO DE SONORA Y ARIZONA – AMANECER\\n\\nImá...           594   \n",
       "2  2465 34TH AVE, OAKLAND – DÍA\\n\\n\\nSOBREPUESTO\\...          1069   \n",
       "3  MARKET STREET, SAN FRANCISCO - DÍA\\nLa carreta...           187   \n",
       "4  CALIFORNIA STREET SAN FRANCISCO- DÍA\\n\\n\\nLa c...            97   \n",
       "\n",
       "                                                 doc  \\\n",
       "0  (Los, Californios, \\n, 1, \\n, Autor, ., Carlos...   \n",
       "1  (DESIERTO, DE, SONORA, Y, ARIZONA, –, AMANECER...   \n",
       "2  (2465, 34TH, AVE, ,, OAKLAND, –, DÍA, \\n\\n\\n, ...   \n",
       "3  (MARKET, STREET, ,, SAN, FRANCISCO, -, DÍA, \\n...   \n",
       "4  (CALIFORNIA, STREET, SAN, FRANCISCO-, DÍA, \\n\\...   \n",
       "\n",
       "                                          personajes  \\\n",
       "0  [Peter, Sophie, De Anza, Peter O’Farrel, Carlo...   \n",
       "1                                      [Californios]   \n",
       "2  [María Alicia, 34TH AVE, O'FARRELL, Luis María...   \n",
       "3  [Luis María Peralta Valenzuela, Distinguished ...   \n",
       "4                                                 []   \n",
       "\n",
       "                                personajes_filtrados  emocion  tema_cluster  \\\n",
       "0  [Peter, De Anza, Pablo, Mariana, Josefa Ramos,...  neutral             3   \n",
       "1                                                 []    anger             1   \n",
       "2    [Pablo, San Antonio, Zoey, Luis María, Peralta]      joy             3   \n",
       "3                                       [Luis María]      joy             2   \n",
       "4                                                 []     fear             2   \n",
       "\n",
       "                                         escena_text  em_anger  em_disgust  \\\n",
       "0  Los Californios\\n1\\nAutor. Carlos Peralta Dávi...     False       False   \n",
       "1  DESIERTO DE SONORA Y ARIZONA – AMANECER\\n\\nImá...      True       False   \n",
       "2  2465 34TH AVE, OAKLAND – DÍA\\n\\n\\nSOBREPUESTO\\...     False       False   \n",
       "3  MARKET STREET, SAN FRANCISCO - DÍA\\nLa carreta...     False       False   \n",
       "4  CALIFORNIA STREET SAN FRANCISCO- DÍA\\n\\n\\nLa c...     False       False   \n",
       "\n",
       "   em_fear  em_joy  em_neutral  em_sadness  num_personajes  escena_coral  \n",
       "0    False   False        True       False              15             1  \n",
       "1    False   False       False       False               0             0  \n",
       "2    False    True       False       False               5             1  \n",
       "3    False    True       False       False               1             0  \n",
       "4     True   False       False       False               0             0  "
      ]
     },
     "execution_count": 18,
     "metadata": {},
     "output_type": "execute_result"
    }
   ],
   "source": [
    "df = pd.concat([df, pd.get_dummies(df['emocion'], prefix='em')], axis=1)\n",
    "df['num_personajes'] = df['personajes_filtrados'].apply(len)\n",
    "df['escena_coral'] = (df['num_personajes'] > 1).astype(int)\n",
    "df.head()"
   ]
  },
  {
   "cell_type": "markdown",
   "metadata": {},
   "source": [
    "## Normalización de variables numéricas"
   ]
  },
  {
   "cell_type": "code",
   "execution_count": 19,
   "metadata": {},
   "outputs": [
    {
     "data": {
      "text/html": [
       "<div>\n",
       "<style scoped>\n",
       "    .dataframe tbody tr th:only-of-type {\n",
       "        vertical-align: middle;\n",
       "    }\n",
       "\n",
       "    .dataframe tbody tr th {\n",
       "        vertical-align: top;\n",
       "    }\n",
       "\n",
       "    .dataframe thead th {\n",
       "        text-align: right;\n",
       "    }\n",
       "</style>\n",
       "<table border=\"1\" class=\"dataframe\">\n",
       "  <thead>\n",
       "    <tr style=\"text-align: right;\">\n",
       "      <th></th>\n",
       "      <th>escena_texto</th>\n",
       "      <th>num_palabras</th>\n",
       "      <th>doc</th>\n",
       "      <th>personajes</th>\n",
       "      <th>personajes_filtrados</th>\n",
       "      <th>emocion</th>\n",
       "      <th>tema_cluster</th>\n",
       "      <th>escena_text</th>\n",
       "      <th>em_anger</th>\n",
       "      <th>em_disgust</th>\n",
       "      <th>em_fear</th>\n",
       "      <th>em_joy</th>\n",
       "      <th>em_neutral</th>\n",
       "      <th>em_sadness</th>\n",
       "      <th>num_personajes</th>\n",
       "      <th>escena_coral</th>\n",
       "      <th>norm_longitud</th>\n",
       "      <th>norm_personajes</th>\n",
       "    </tr>\n",
       "  </thead>\n",
       "  <tbody>\n",
       "    <tr>\n",
       "      <th>0</th>\n",
       "      <td>Los Californios\\n1\\nAutor. Carlos Peralta Dávi...</td>\n",
       "      <td>5665</td>\n",
       "      <td>(Los, Californios, \\n, 1, \\n, Autor, ., Carlos...</td>\n",
       "      <td>[Peter, Sophie, De Anza, Peter O’Farrel, Carlo...</td>\n",
       "      <td>[Peter, De Anza, Pablo, Mariana, Josefa Ramos,...</td>\n",
       "      <td>neutral</td>\n",
       "      <td>3</td>\n",
       "      <td>Los Californios\\n1\\nAutor. Carlos Peralta Dávi...</td>\n",
       "      <td>False</td>\n",
       "      <td>False</td>\n",
       "      <td>False</td>\n",
       "      <td>False</td>\n",
       "      <td>True</td>\n",
       "      <td>False</td>\n",
       "      <td>15</td>\n",
       "      <td>1</td>\n",
       "      <td>0.838135</td>\n",
       "      <td>0.535714</td>\n",
       "    </tr>\n",
       "    <tr>\n",
       "      <th>1</th>\n",
       "      <td>DESIERTO DE SONORA Y ARIZONA – AMANECER\\n\\nImá...</td>\n",
       "      <td>594</td>\n",
       "      <td>(DESIERTO, DE, SONORA, Y, ARIZONA, –, AMANECER...</td>\n",
       "      <td>[Californios]</td>\n",
       "      <td>[]</td>\n",
       "      <td>anger</td>\n",
       "      <td>1</td>\n",
       "      <td>DESIERTO DE SONORA Y ARIZONA – AMANECER\\n\\nImá...</td>\n",
       "      <td>True</td>\n",
       "      <td>False</td>\n",
       "      <td>False</td>\n",
       "      <td>False</td>\n",
       "      <td>False</td>\n",
       "      <td>False</td>\n",
       "      <td>0</td>\n",
       "      <td>0</td>\n",
       "      <td>0.085091</td>\n",
       "      <td>0.000000</td>\n",
       "    </tr>\n",
       "    <tr>\n",
       "      <th>2</th>\n",
       "      <td>2465 34TH AVE, OAKLAND – DÍA\\n\\n\\nSOBREPUESTO\\...</td>\n",
       "      <td>1069</td>\n",
       "      <td>(2465, 34TH, AVE, ,, OAKLAND, –, DÍA, \\n\\n\\n, ...</td>\n",
       "      <td>[María Alicia, 34TH AVE, O'FARRELL, Luis María...</td>\n",
       "      <td>[Pablo, San Antonio, Zoey, Luis María, Peralta]</td>\n",
       "      <td>joy</td>\n",
       "      <td>3</td>\n",
       "      <td>2465 34TH AVE, OAKLAND – DÍA\\n\\n\\nSOBREPUESTO\\...</td>\n",
       "      <td>False</td>\n",
       "      <td>False</td>\n",
       "      <td>False</td>\n",
       "      <td>True</td>\n",
       "      <td>False</td>\n",
       "      <td>False</td>\n",
       "      <td>5</td>\n",
       "      <td>1</td>\n",
       "      <td>0.155628</td>\n",
       "      <td>0.178571</td>\n",
       "    </tr>\n",
       "    <tr>\n",
       "      <th>3</th>\n",
       "      <td>MARKET STREET, SAN FRANCISCO - DÍA\\nLa carreta...</td>\n",
       "      <td>187</td>\n",
       "      <td>(MARKET, STREET, ,, SAN, FRANCISCO, -, DÍA, \\n...</td>\n",
       "      <td>[Luis María Peralta Valenzuela, Distinguished ...</td>\n",
       "      <td>[Luis María]</td>\n",
       "      <td>joy</td>\n",
       "      <td>2</td>\n",
       "      <td>MARKET STREET, SAN FRANCISCO - DÍA\\nLa carreta...</td>\n",
       "      <td>False</td>\n",
       "      <td>False</td>\n",
       "      <td>False</td>\n",
       "      <td>True</td>\n",
       "      <td>False</td>\n",
       "      <td>False</td>\n",
       "      <td>1</td>\n",
       "      <td>0</td>\n",
       "      <td>0.024651</td>\n",
       "      <td>0.035714</td>\n",
       "    </tr>\n",
       "    <tr>\n",
       "      <th>4</th>\n",
       "      <td>CALIFORNIA STREET SAN FRANCISCO- DÍA\\n\\n\\nLa c...</td>\n",
       "      <td>97</td>\n",
       "      <td>(CALIFORNIA, STREET, SAN, FRANCISCO-, DÍA, \\n\\...</td>\n",
       "      <td>[]</td>\n",
       "      <td>[]</td>\n",
       "      <td>fear</td>\n",
       "      <td>2</td>\n",
       "      <td>CALIFORNIA STREET SAN FRANCISCO- DÍA\\n\\n\\nLa c...</td>\n",
       "      <td>False</td>\n",
       "      <td>False</td>\n",
       "      <td>True</td>\n",
       "      <td>False</td>\n",
       "      <td>False</td>\n",
       "      <td>False</td>\n",
       "      <td>0</td>\n",
       "      <td>0</td>\n",
       "      <td>0.011286</td>\n",
       "      <td>0.000000</td>\n",
       "    </tr>\n",
       "  </tbody>\n",
       "</table>\n",
       "</div>"
      ],
      "text/plain": [
       "                                        escena_texto  num_palabras  \\\n",
       "0  Los Californios\\n1\\nAutor. Carlos Peralta Dávi...          5665   \n",
       "1  DESIERTO DE SONORA Y ARIZONA – AMANECER\\n\\nImá...           594   \n",
       "2  2465 34TH AVE, OAKLAND – DÍA\\n\\n\\nSOBREPUESTO\\...          1069   \n",
       "3  MARKET STREET, SAN FRANCISCO - DÍA\\nLa carreta...           187   \n",
       "4  CALIFORNIA STREET SAN FRANCISCO- DÍA\\n\\n\\nLa c...            97   \n",
       "\n",
       "                                                 doc  \\\n",
       "0  (Los, Californios, \\n, 1, \\n, Autor, ., Carlos...   \n",
       "1  (DESIERTO, DE, SONORA, Y, ARIZONA, –, AMANECER...   \n",
       "2  (2465, 34TH, AVE, ,, OAKLAND, –, DÍA, \\n\\n\\n, ...   \n",
       "3  (MARKET, STREET, ,, SAN, FRANCISCO, -, DÍA, \\n...   \n",
       "4  (CALIFORNIA, STREET, SAN, FRANCISCO-, DÍA, \\n\\...   \n",
       "\n",
       "                                          personajes  \\\n",
       "0  [Peter, Sophie, De Anza, Peter O’Farrel, Carlo...   \n",
       "1                                      [Californios]   \n",
       "2  [María Alicia, 34TH AVE, O'FARRELL, Luis María...   \n",
       "3  [Luis María Peralta Valenzuela, Distinguished ...   \n",
       "4                                                 []   \n",
       "\n",
       "                                personajes_filtrados  emocion  tema_cluster  \\\n",
       "0  [Peter, De Anza, Pablo, Mariana, Josefa Ramos,...  neutral             3   \n",
       "1                                                 []    anger             1   \n",
       "2    [Pablo, San Antonio, Zoey, Luis María, Peralta]      joy             3   \n",
       "3                                       [Luis María]      joy             2   \n",
       "4                                                 []     fear             2   \n",
       "\n",
       "                                         escena_text  em_anger  em_disgust  \\\n",
       "0  Los Californios\\n1\\nAutor. Carlos Peralta Dávi...     False       False   \n",
       "1  DESIERTO DE SONORA Y ARIZONA – AMANECER\\n\\nImá...      True       False   \n",
       "2  2465 34TH AVE, OAKLAND – DÍA\\n\\n\\nSOBREPUESTO\\...     False       False   \n",
       "3  MARKET STREET, SAN FRANCISCO - DÍA\\nLa carreta...     False       False   \n",
       "4  CALIFORNIA STREET SAN FRANCISCO- DÍA\\n\\n\\nLa c...     False       False   \n",
       "\n",
       "   em_fear  em_joy  em_neutral  em_sadness  num_personajes  escena_coral  \\\n",
       "0    False   False        True       False              15             1   \n",
       "1    False   False       False       False               0             0   \n",
       "2    False    True       False       False               5             1   \n",
       "3    False    True       False       False               1             0   \n",
       "4     True   False       False       False               0             0   \n",
       "\n",
       "   norm_longitud  norm_personajes  \n",
       "0       0.838135         0.535714  \n",
       "1       0.085091         0.000000  \n",
       "2       0.155628         0.178571  \n",
       "3       0.024651         0.035714  \n",
       "4       0.011286         0.000000  "
      ]
     },
     "execution_count": 19,
     "metadata": {},
     "output_type": "execute_result"
    }
   ],
   "source": [
    "scaler = MinMaxScaler()\n",
    "df[['norm_longitud', 'norm_personajes']] = scaler.fit_transform(df[['num_palabras', 'num_personajes']])\n",
    "df.head()"
   ]
  },
  {
   "cell_type": "markdown",
   "metadata": {},
   "source": [
    "## Selección y reducción de características"
   ]
  },
  {
   "cell_type": "code",
   "execution_count": 20,
   "metadata": {},
   "outputs": [
    {
     "data": {
      "image/png": "[encoded data removed]",
      "text/plain": [
       "<Figure size 640x480 with 1 Axes>"
      ]
     },
     "metadata": {},
     "output_type": "display_data"
    }
   ],
   "source": [
    "columnas_emocion = list(df.columns[df.columns.str.startswith('em_')])\n",
    "X = df[['norm_longitud', 'norm_personajes'] + columnas_emocion]\n",
    "\n",
    "selector = VarianceThreshold(threshold=0.01)\n",
    "X_reduced = selector.fit_transform(X)\n",
    "\n",
    "pca = PCA(n_components=2)\n",
    "X_pca = pca.fit_transform(X)\n",
    "plt.scatter(X_pca[:, 0], X_pca[:, 1], c=df['tema_cluster'], cmap='viridis')\n",
    "plt.title('Representación PCA de escenas')\n",
    "plt.xlabel('PC1')\n",
    "plt.ylabel('PC2')\n",
    "plt.show()"
   ]
  },
  {
   "cell_type": "markdown",
   "metadata": {},
   "source": [
    "## Similitud entre escenas y personajes con embeddings"
   ]
  },
  {
   "cell_type": "code",
   "execution_count": 21,
   "metadata": {},
   "outputs": [],
   "source": [
    "from sklearn.metrics.pairwise import cosine_similarity\n",
    "from sentence_transformers import SentenceTransformer\n",
    "\n",
    "# Se extraen las escenas y se generan nombres de escenas\n",
    "escenas = df['escena_texto'].tolist()\n",
    "nombres_escenas = [f'Escena {i+1}' for i in range(len(escenas))]\n",
    "\n",
    "# Se carga el modelo y se generan los embeddings\n",
    "model = SentenceTransformer('distiluse-base-multilingual-cased-v1')\n",
    "embeddings = model.encode(escenas)\n",
    "\n",
    "# Se calcula matriz de similitud\n",
    "sim_matrix = cosine_similarity(embeddings)\n",
    "\n",
    "# Se genera un dataframe temporal para desplegar los resultados de forma legible.\n",
    "df_sim = pd.DataFrame(sim_matrix, index=nombres_escenas, columns=nombres_escenas)"
   ]
  },
  {
   "cell_type": "code",
   "execution_count": 22,
   "metadata": {},
   "outputs": [
    {
     "name": "stdout",
     "output_type": "stream",
     "text": [
      "10 escenas con mayor similitud:\n"
     ]
    },
    {
     "data": {
      "text/html": [
       "<div>\n",
       "<style scoped>\n",
       "    .dataframe tbody tr th:only-of-type {\n",
       "        vertical-align: middle;\n",
       "    }\n",
       "\n",
       "    .dataframe tbody tr th {\n",
       "        vertical-align: top;\n",
       "    }\n",
       "\n",
       "    .dataframe thead th {\n",
       "        text-align: right;\n",
       "    }\n",
       "</style>\n",
       "<table border=\"1\" class=\"dataframe\">\n",
       "  <thead>\n",
       "    <tr style=\"text-align: right;\">\n",
       "      <th></th>\n",
       "      <th>Escena A</th>\n",
       "      <th>Escena B</th>\n",
       "      <th>Similaridad</th>\n",
       "    </tr>\n",
       "  </thead>\n",
       "  <tbody>\n",
       "    <tr>\n",
       "      <th>12986</th>\n",
       "      <td>Escena 62</td>\n",
       "      <td>Escena 55</td>\n",
       "      <td>1.000000</td>\n",
       "    </tr>\n",
       "    <tr>\n",
       "      <th>11082</th>\n",
       "      <td>Escena 53</td>\n",
       "      <td>Escena 60</td>\n",
       "      <td>1.000000</td>\n",
       "    </tr>\n",
       "    <tr>\n",
       "      <th>5317</th>\n",
       "      <td>Escena 26</td>\n",
       "      <td>Escena 18</td>\n",
       "      <td>0.979297</td>\n",
       "    </tr>\n",
       "    <tr>\n",
       "      <th>11721</th>\n",
       "      <td>Escena 56</td>\n",
       "      <td>Escena 63</td>\n",
       "      <td>0.977420</td>\n",
       "    </tr>\n",
       "    <tr>\n",
       "      <th>11295</th>\n",
       "      <td>Escena 54</td>\n",
       "      <td>Escena 61</td>\n",
       "      <td>0.963691</td>\n",
       "    </tr>\n",
       "    <tr>\n",
       "      <th>4055</th>\n",
       "      <td>Escena 20</td>\n",
       "      <td>Escena 29</td>\n",
       "      <td>0.960901</td>\n",
       "    </tr>\n",
       "    <tr>\n",
       "      <th>5742</th>\n",
       "      <td>Escena 28</td>\n",
       "      <td>Escena 19</td>\n",
       "      <td>0.879462</td>\n",
       "    </tr>\n",
       "    <tr>\n",
       "      <th>15976</th>\n",
       "      <td>Escena 76</td>\n",
       "      <td>Escena 78</td>\n",
       "      <td>0.827906</td>\n",
       "    </tr>\n",
       "    <tr>\n",
       "      <th>10868</th>\n",
       "      <td>Escena 52</td>\n",
       "      <td>Escena 58</td>\n",
       "      <td>0.817077</td>\n",
       "    </tr>\n",
       "    <tr>\n",
       "      <th>13412</th>\n",
       "      <td>Escena 64</td>\n",
       "      <td>Escena 57</td>\n",
       "      <td>0.798230</td>\n",
       "    </tr>\n",
       "  </tbody>\n",
       "</table>\n",
       "</div>"
      ],
      "text/plain": [
       "        Escena A   Escena B  Similaridad\n",
       "12986  Escena 62  Escena 55     1.000000\n",
       "11082  Escena 53  Escena 60     1.000000\n",
       "5317   Escena 26  Escena 18     0.979297\n",
       "11721  Escena 56  Escena 63     0.977420\n",
       "11295  Escena 54  Escena 61     0.963691\n",
       "4055   Escena 20  Escena 29     0.960901\n",
       "5742   Escena 28  Escena 19     0.879462\n",
       "15976  Escena 76  Escena 78     0.827906\n",
       "10868  Escena 52  Escena 58     0.817077\n",
       "13412  Escena 64  Escena 57     0.798230"
      ]
     },
     "execution_count": 22,
     "metadata": {},
     "output_type": "execute_result"
    }
   ],
   "source": [
    "import numpy as np\n",
    "# Convertir la matriz en formato largo (pares de escena)\n",
    "sim_pairs = df_sim.where(~np.eye(df_sim.shape[0], dtype=bool))  # Elimina la diagonal (1.0 de autocomparación)\n",
    "sim_pairs = sim_pairs.stack().reset_index()\n",
    "sim_pairs.columns = ['Escena A', 'Escena B', 'Similaridad']\n",
    "\n",
    "# Ordenar de mayor a menor\n",
    "sim_pairs = sim_pairs.sort_values(by='Similaridad', ascending=False)\n",
    "\n",
    "# Opcional: eliminar duplicados (Ej: A-B y B-A)\n",
    "sim_pairs['Escenas'] = sim_pairs[['Escena A', 'Escena B']].apply(lambda x: tuple(sorted(x)), axis=1)\n",
    "sim_pairs = sim_pairs.drop_duplicates(subset='Escenas').drop(columns='Escenas')\n",
    "\n",
    "# Mostrar top 10 pares más similares\n",
    "print('10 escenas con mayor similitud:')\n",
    "sim_pairs.head(10)"
   ]
  },
  {
   "cell_type": "markdown",
   "metadata": {},
   "source": [
    "## Baseline usando el dataframe"
   ]
  },
  {
   "cell_type": "code",
   "execution_count": 23,
   "metadata": {},
   "outputs": [],
   "source": [
    "from sklearn.feature_extraction.text import TfidfVectorizer\n",
    "from sklearn.model_selection import train_test_split, cross_val_score\n",
    "from sklearn.linear_model import LogisticRegression\n",
    "from sklearn.metrics import classification_report, accuracy_score, f1_score\n",
    "from sklearn.feature_selection import SelectKBest, chi2"
   ]
  },
  {
   "cell_type": "code",
   "execution_count": 24,
   "metadata": {},
   "outputs": [],
   "source": [
    "X_texto = df['escena_texto']\n",
    "y = df['emocion']\n",
    "\n",
    "vectorizer = TfidfVectorizer()\n",
    "X = vectorizer.fit_transform(X_texto)\n",
    "\n",
    "X_train, X_test, y_train, y_test = train_test_split(X, y, test_size=0.3, random_state=42)"
   ]
  },
  {
   "cell_type": "markdown",
   "metadata": {},
   "source": [
    "## Entrenamiento del modelo baseline y evaluación"
   ]
  },
  {
   "cell_type": "code",
   "execution_count": 25,
   "metadata": {},
   "outputs": [
    {
     "name": "stdout",
     "output_type": "stream",
     "text": [
      "Accuracy: 0.609375\n",
      "F1 Score: 0.46146844660194175\n",
      "\n",
      "Reporte de clasificación:\n",
      "\n",
      "              precision    recall  f1-score   support\n",
      "\n",
      "       anger       0.00      0.00      0.00         4\n",
      "     disgust       0.00      0.00      0.00         1\n",
      "        fear       0.61      1.00      0.76        39\n",
      "         joy       0.00      0.00      0.00         8\n",
      "     neutral       0.00      0.00      0.00         7\n",
      "     sadness       0.00      0.00      0.00         5\n",
      "\n",
      "    accuracy                           0.61        64\n",
      "   macro avg       0.10      0.17      0.13        64\n",
      "weighted avg       0.37      0.61      0.46        64\n",
      "\n"
     ]
    },
    {
     "name": "stderr",
     "output_type": "stream",
     "text": [
      "c:\\Users\\ganod\\AppData\\Local\\Programs\\Python\\Python312\\Lib\\site-packages\\sklearn\\metrics\\_classification.py:1531: UndefinedMetricWarning: Precision is ill-defined and being set to 0.0 in labels with no predicted samples. Use `zero_division` parameter to control this behavior.\n",
      "  _warn_prf(average, modifier, f\"{metric.capitalize()} is\", len(result))\n",
      "c:\\Users\\ganod\\AppData\\Local\\Programs\\Python\\Python312\\Lib\\site-packages\\sklearn\\metrics\\_classification.py:1531: UndefinedMetricWarning: Precision is ill-defined and being set to 0.0 in labels with no predicted samples. Use `zero_division` parameter to control this behavior.\n",
      "  _warn_prf(average, modifier, f\"{metric.capitalize()} is\", len(result))\n",
      "c:\\Users\\ganod\\AppData\\Local\\Programs\\Python\\Python312\\Lib\\site-packages\\sklearn\\metrics\\_classification.py:1531: UndefinedMetricWarning: Precision is ill-defined and being set to 0.0 in labels with no predicted samples. Use `zero_division` parameter to control this behavior.\n",
      "  _warn_prf(average, modifier, f\"{metric.capitalize()} is\", len(result))\n"
     ]
    }
   ],
   "source": [
    "model = LogisticRegression(max_iter=1000)\n",
    "model.fit(X_train, y_train)\n",
    "y_pred = model.predict(X_test)\n",
    "\n",
    "print(\"Accuracy:\", accuracy_score(y_test, y_pred))\n",
    "print(\"F1 Score:\", f1_score(y_test, y_pred, average='weighted'))\n",
    "print(\"\\nReporte de clasificación:\\n\")\n",
    "print(classification_report(y_test, y_pred))"
   ]
  },
  {
   "cell_type": "markdown",
   "metadata": {},
   "source": [
    "## Palabras más relevantes según chi-cuadrado"
   ]
  },
  {
   "cell_type": "code",
   "execution_count": 26,
   "metadata": {},
   "outputs": [
    {
     "name": "stdout",
     "output_type": "stream",
     "text": [
      "Palabras más importantes según chi2: ['carpentier' 'hereje' 'impuesto' 'inquisición' 'insulta' 'inuk' 'josefa'\n",
      " 'pedro' 'pregonero' 'virrey']\n"
     ]
    }
   ],
   "source": [
    "selector = SelectKBest(score_func=chi2, k=10)\n",
    "selector.fit(X, y)\n",
    "selected_words = np.array(vectorizer.get_feature_names_out())[selector.get_support()]\n",
    "print(\"Palabras más importantes según chi2:\", selected_words)"
   ]
  },
  {
   "cell_type": "markdown",
   "metadata": {},
   "source": [
    "## Visualización PCA de escenas por emoción"
   ]
  },
  {
   "cell_type": "code",
   "execution_count": 27,
   "metadata": {},
   "outputs": [
    {
     "data": {
      "image/png": "[encoded data removed]",
      "text/plain": [
       "<Figure size 1000x700 with 1 Axes>"
      ]
     },
     "metadata": {},
     "output_type": "display_data"
    }
   ],
   "source": [
    "X_dense = X.toarray()\n",
    "pca = PCA(n_components=2)\n",
    "X_pca = pca.fit_transform(X_dense)\n",
    "\n",
    "df_pca = pd.DataFrame(X_pca, columns=['PC1', 'PC2'])\n",
    "df_pca['emocion'] = y.values\n",
    "\n",
    "plt.figure(figsize=(10, 7))\n",
    "sns.scatterplot(data=df_pca, x='PC1', y='PC2', hue='emocion', palette='viridis')\n",
    "plt.title(\"Distribución PCA de escenas clasificadas por emoción\")\n",
    "plt.show()"
   ]
  },
  {
   "cell_type": "markdown",
   "metadata": {},
   "source": [
    "## Validación cruzada del modelo baseline"
   ]
  },
  {
   "cell_type": "code",
   "execution_count": 28,
   "metadata": {},
   "outputs": [
    {
     "name": "stdout",
     "output_type": "stream",
     "text": [
      "F1 ponderado promedio (CV 5-fold): 0.3309869878183832\n"
     ]
    }
   ],
   "source": [
    "scores = cross_val_score(model, X, y, cv=5, scoring='f1_weighted')\n",
    "print(\"F1 ponderado promedio (CV 5-fold):\", np.mean(scores))"
   ]
  },
  {
   "cell_type": "markdown",
   "metadata": {},
   "source": [
    "## Conclusiones"
   ]
  },
  {
   "cell_type": "code",
   "execution_count": 29,
   "metadata": {},
   "outputs": [
    {
     "name": "stdout",
     "output_type": "stream",
     "text": [
      "- Se entrenó un modelo baseline con regresión logística sobre las escenas reales del guion.\n",
      "- El modelo clasifica emociones narrativas con un desempeño razonable (F1/accuracy).\n",
      "- Las palabras más influyentes se identificaron con chi-cuadrado.\n",
      "- PCA mostró separación parcial entre clases emocionales, útil para preselección de escenas.\n",
      "- El baseline establece una referencia mínima válida para evaluar métodos más complejos en futuras fases.\n"
     ]
    }
   ],
   "source": [
    "print(\"- Se entrenó un modelo baseline con regresión logística sobre las escenas reales del guion.\")\n",
    "print(\"- El modelo clasifica emociones narrativas con un desempeño razonable (F1/accuracy).\")\n",
    "print(\"- Las palabras más influyentes se identificaron con chi-cuadrado.\")\n",
    "print(\"- PCA mostró separación parcial entre clases emocionales, útil para preselección de escenas.\")\n",
    "print(\"- El baseline establece una referencia mínima válida para evaluar métodos más complejos en futuras fases.\")"
   ]
  }
 ],
 "metadata": {
  "colab": {
   "provenance": []
  },
  "kernelspec": {
   "display_name": "Python (GPU)",
   "language": "python",
   "name": "gpu_env"
  },
  "language_info": {
   "codemirror_mode": {
    "name": "ipython",
    "version": 3
   },
   "file_extension": ".py",
   "mimetype": "text/x-python",
   "name": "python",
   "nbconvert_exporter": "python",
   "pygments_lexer": "ipython3",
   "version": "3.12.7"
  }
 },
 "nbformat": 4,
 "nbformat_minor": 0
}
